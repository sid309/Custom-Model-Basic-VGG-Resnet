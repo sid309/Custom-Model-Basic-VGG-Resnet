{
  "nbformat": 4,
  "nbformat_minor": 0,
  "metadata": {
    "colab": {
      "name": "Wide Deep Custom Model.ipynb",
      "provenance": []
    },
    "kernelspec": {
      "name": "python3",
      "display_name": "Python 3"
    },
    "language_info": {
      "name": "python"
    }
  },
  "cells": [
    {
      "cell_type": "code",
      "metadata": {
        "id": "KCRYPjEnim50"
      },
      "source": [
        "try:\n",
        "  %tensorflow_version 2.x\n",
        "except Exception:\n",
        "  pass"
      ],
      "execution_count": 1,
      "outputs": []
    },
    {
      "cell_type": "code",
      "metadata": {
        "id": "ed-d3v8vv8hq"
      },
      "source": [
        "import tensorflow as tf\n",
        "from tensorflow.keras.layers import Input,Dense,concatenate\n",
        "from tensorflow.keras import Model\n",
        "from tensorflow.keras.utils import plot_model"
      ],
      "execution_count": 3,
      "outputs": []
    },
    {
      "cell_type": "code",
      "metadata": {
        "colab": {
          "base_uri": "https://localhost:8080/",
          "height": 466
        },
        "id": "BNYmJFmywM-H",
        "outputId": "6c3279cf-61e9-472f-87a9-8309ee63a847"
      },
      "source": [
        "input_a=Input(shape=[1],name='wide input')\n",
        "input_b=Input(shape=[1],name='dense input')\n",
        "hidden_1=Dense(30,activation='relu')(input_b)\n",
        "hidden_2=Dense(30,activation='relu')(hidden_1)\n",
        "concat=concatenate([input_a,hidden_2])\n",
        "output=Dense(1,name='output')(concat)\n",
        "aux_output=Dense(1,name='aux_output')(hidden_2)\n",
        "model=Model(inputs=[input_a,input_b],outputs=[output,aux_output])\n",
        "plot_model(model)"
      ],
      "execution_count": 4,
      "outputs": [
        {
          "output_type": "execute_result",
          "data": {
            "image/png": "[encoded data removed]",
            "text/plain": [
              "<IPython.core.display.Image object>"
            ]
          },
          "metadata": {},
          "execution_count": 4
        }
      ]
    },
    {
      "cell_type": "code",
      "metadata": {
        "id": "kM58y5_nxnUH"
      },
      "source": [
        "class Wide_Deep_Model(Model):\n",
        "  def __init__(self,units=32,activation='relu',**kwargs):\n",
        "    super().__init__(**kwargs)\n",
        "    self.hidden1=Dense(units,activation=activation)\n",
        "    self.hidden2=Dense(units,activation=activation)\n",
        "    self.main_output=Dense(1)\n",
        "    self.aux_output=Dense(1)\n",
        "  def call(self,inputs):\n",
        "    input_a,input_b=inputs\n",
        "    hidden1 = self.hidden1(input_B)\n",
        "    hidden2 = self.hidden2(hidden1)\n",
        "    concat = concatenate([input_A, hidden2])\n",
        "    main_output = self.main_output(concat)\n",
        "    aux_output = self.aux_output(hidden2)\n",
        "    return main_output, aux_output"
      ],
      "execution_count": 5,
      "outputs": []
    },
    {
      "cell_type": "code",
      "metadata": {
        "id": "3LZNXqlD6GD1"
      },
      "source": [
        "model=Wide_Deep_Model()"
      ],
      "execution_count": 6,
      "outputs": []
    },
    {
      "cell_type": "code",
      "metadata": {
        "id": "-Xslvrsi6JmE"
      },
      "source": [
        ""
      ],
      "execution_count": null,
      "outputs": []
    }
  ]
}