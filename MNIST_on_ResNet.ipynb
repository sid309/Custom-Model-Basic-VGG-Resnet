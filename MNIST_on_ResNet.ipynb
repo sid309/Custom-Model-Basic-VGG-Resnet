{
  "nbformat": 4,
  "nbformat_minor": 0,
  "metadata": {
    "colab": {
      "name": "MNIST on ResNet.ipynb",
      "provenance": []
    },
    "kernelspec": {
      "name": "python3",
      "display_name": "Python 3"
    },
    "language_info": {
      "name": "python"
    },
    "accelerator": "GPU"
  },
  "cells": [
    {
      "cell_type": "code",
      "metadata": {
        "id": "cO-qkT6Cs0PQ"
      },
      "source": [
        "try:\n",
        "  %tensorflow_version 2.x\n",
        "except Exception:\n",
        "  pass"
      ],
      "execution_count": 1,
      "outputs": []
    },
    {
      "cell_type": "code",
      "metadata": {
        "id": "xTL30F50tRMI"
      },
      "source": [
        "import tensorflow as tf\n",
        "import tensorflow_datasets as tfds\n",
        "from tensorflow.keras.layers import Layer"
      ],
      "execution_count": 2,
      "outputs": []
    },
    {
      "cell_type": "code",
      "metadata": {
        "id": "n8RMp6_ftY6S"
      },
      "source": [
        "class Identity_Block(tf.keras.Model):\n",
        "  def __init__(self,filters,kernel_size):\n",
        "    super(Identity_Block,self).__init__(name=\"\")\n",
        "    self.conv1=tf.keras.layers.Conv2D(filters,kernel_size,padding='same')\n",
        "    self.bn1=tf.keras.layers.BatchNormalization()\n",
        "    self.conv2=tf.keras.layers.Conv2D(filters,kernel_size,padding='same')\n",
        "    self.bn2=tf.keras.layers.BatchNormalization()\n",
        "    self.act=tf.keras.layers.Activation('relu')\n",
        "    self.add=tf.keras.layers.Add()\n",
        "  \n",
        "  def call(self,input_tensor):\n",
        "    x=self.conv1(input_tensor)\n",
        "    x=self.bn1(x)\n",
        "    x=self.act(x)\n",
        "    x=self.conv2(x)\n",
        "    x=self.bn2(x)\n",
        "    x=self.act(x)\n",
        "    x=self.add([x,input_tensor])\n",
        "    x=self.act(x)\n",
        "    return x"
      ],
      "execution_count": 13,
      "outputs": []
    },
    {
      "cell_type": "code",
      "metadata": {
        "id": "99GkSj3pvjuT"
      },
      "source": [
        "class ResNet(tf.keras.Model):\n",
        "  def __init__(self,classes):\n",
        "    super(ResNet,self).__init__()\n",
        "    self.conv = tf.keras.layers.Conv2D(64, 7, padding='same')\n",
        "    self.bn = tf.keras.layers.BatchNormalization()\n",
        "    self.act = tf.keras.layers.Activation('relu')\n",
        "    self.max_pool = tf.keras.layers.MaxPool2D((3, 3))\n",
        "    self.id1a = Identity_Block(64, 3)\n",
        "    self.id1b = Identity_Block(64, 3)\n",
        "    self.global_pool = tf.keras.layers.GlobalAveragePooling2D()\n",
        "    self.classifier = tf.keras.layers.Dense(classes, activation='softmax')\n",
        "\n",
        "  def call(self,inputs):\n",
        "    x = self.conv(inputs)\n",
        "    x = self.bn(x)\n",
        "    x = self.act(x)\n",
        "    x = self.max_pool(x)\n",
        "    x=self.id1a(x)\n",
        "    x=self.id1b(x)\n",
        "    x=self.global_pool(x)\n",
        "    return self.classifier(x)\n"
      ],
      "execution_count": 14,
      "outputs": []
    },
    {
      "cell_type": "code",
      "metadata": {
        "id": "ngKL8Pqqxcfi"
      },
      "source": [
        "def preprocess(features):\n",
        "    return tf.cast(features['image'], tf.float32) / 255., features['label']"
      ],
      "execution_count": 15,
      "outputs": []
    },
    {
      "cell_type": "code",
      "metadata": {
        "colab": {
          "base_uri": "https://localhost:8080/"
        },
        "id": "ugJ2wxDjxTLq",
        "outputId": "e7870e6c-f9f4-4341-dc45-143a84814d54"
      },
      "source": [
        "resnet = ResNet(10)\n",
        "resnet.compile(optimizer='adam', loss='sparse_categorical_crossentropy', metrics=['accuracy'])\n",
        "dataset = tfds.load('mnist', split=tfds.Split.TRAIN, data_dir='./data')\n",
        "dataset = dataset.map(preprocess).batch(32)\n",
        "resnet.fit(dataset, epochs=5)"
      ],
      "execution_count": 16,
      "outputs": [
        {
          "output_type": "stream",
          "text": [
            "Epoch 1/5\n",
            "1875/1875 [==============================] - 57s 15ms/step - loss: 0.1554 - accuracy: 0.9614\n",
            "Epoch 2/5\n",
            "1875/1875 [==============================] - 24s 13ms/step - loss: 0.0486 - accuracy: 0.9859\n",
            "Epoch 3/5\n",
            "1875/1875 [==============================] - 23s 12ms/step - loss: 0.0349 - accuracy: 0.9896\n",
            "Epoch 4/5\n",
            "1875/1875 [==============================] - 23s 12ms/step - loss: 0.0280 - accuracy: 0.9919\n",
            "Epoch 5/5\n",
            "1875/1875 [==============================] - 24s 13ms/step - loss: 0.0221 - accuracy: 0.9936\n"
          ],
          "name": "stdout"
        },
        {
          "output_type": "execute_result",
          "data": {
            "text/plain": [
              "<keras.callbacks.History at 0x7fc3ef1ef0d0>"
            ]
          },
          "metadata": {},
          "execution_count": 16
        }
      ]
    },
    {
      "cell_type": "code",
      "metadata": {
        "colab": {
          "base_uri": "https://localhost:8080/"
        },
        "id": "9Bpu_RU0xd1S",
        "outputId": "b57d0899-9756-4c43-e2c8-4d81bb839a2e"
      },
      "source": [
        "dataset = tfds.load('mnist', split=tfds.Split.TEST, data_dir='./data')\n",
        "dataset = dataset.map(preprocess).batch(32)\n",
        "resnet.evaluate(dataset)"
      ],
      "execution_count": 17,
      "outputs": [
        {
          "output_type": "stream",
          "text": [
            "313/313 [==============================] - 2s 7ms/step - loss: 0.3313 - accuracy: 0.9033\n"
          ],
          "name": "stdout"
        },
        {
          "output_type": "execute_result",
          "data": {
            "text/plain": [
              "[0.3313046395778656, 0.9032999873161316]"
            ]
          },
          "metadata": {},
          "execution_count": 17
        }
      ]
    }
  ]
}