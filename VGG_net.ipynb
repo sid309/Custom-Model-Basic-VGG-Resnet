{
  "nbformat": 4,
  "nbformat_minor": 0,
  "metadata": {
    "colab": {
      "name": "VGG net.ipynb",
      "provenance": []
    },
    "kernelspec": {
      "name": "python3",
      "display_name": "Python 3"
    },
    "language_info": {
      "name": "python"
    },
    "accelerator": "GPU"
  },
  "cells": [
    {
      "cell_type": "code",
      "metadata": {
        "id": "q72TAvRAYwiM"
      },
      "source": [
        "try:\n",
        "  %tensorflow 2.x\n",
        "except Exception:\n",
        "  pass"
      ],
      "execution_count": 17,
      "outputs": []
    },
    {
      "cell_type": "code",
      "metadata": {
        "id": "G4rzkCOCZJfK"
      },
      "source": [
        "import tensorflow as tf\n",
        "import tensorflow_datasets as tdfs"
      ],
      "execution_count": 18,
      "outputs": []
    },
    {
      "cell_type": "code",
      "metadata": {
        "id": "mCGxtQW6bDZF"
      },
      "source": [
        "class Block(tf.keras.Model):\n",
        "    def __init__(self, filters, kernel_size, repetitions, pool_size=2, strides=2):\n",
        "        super(Block, self).__init__()\n",
        "        self.filters = filters\n",
        "        self.kernel_size = kernel_size\n",
        "        self.repetitions = repetitions\n",
        "        for i in range(self.repetitions):\n",
        "          vars(self)[f'conv2D_{i}'] = tf.keras.layers.Conv2D(self.filters, self.kernel_size,activation= 'relu', padding= 'same')\n",
        "        self.max_pool = tf.keras.layers.MaxPool2D(pool_size, strides=strides)\n",
        "  \n",
        "    def call(self, inputs):\n",
        "        conv2D_0 = vars(self)['conv2D_0']\n",
        "        x = conv2D_0(inputs)\n",
        "        for i in range(1,self.repetitions):\n",
        "            conv2D_i = vars(self)[f'conv2D_{i}']\n",
        "            x = conv2D_i(x)\n",
        "        max_pool = self.max_pool(x)\n",
        "        return max_pool"
      ],
      "execution_count": 19,
      "outputs": []
    },
    {
      "cell_type": "code",
      "metadata": {
        "id": "lCCo0i2ReIIj"
      },
      "source": [
        "class VGG(tf.keras.Model):\n",
        "  def __init__(self,classes):\n",
        "    super(VGG,self).__init__()\n",
        "    self.block_a=Block(filters=64,repetitions=2,kernel_size=3)\n",
        "    self.block_b=Block(filters=128,repetitions=2,kernel_size=3)\n",
        "    self.block_c=Block(filters=256,repetitions=3,kernel_size=3)\n",
        "    self.block_d=Block(filters=512,repetitions=3,kernel_size=3)\n",
        "    self.block_e=Block(filters=512,repetitions=3,kernel_size=3)\n",
        "    self.flatten=tf.keras.layers.Flatten()\n",
        "    self.fc=tf.keras.layers.Dense(256,activation='relu')\n",
        "    self.classifier=tf.keras.layers.Dense(classes,activation='softmax')\n",
        "  \n",
        "  def call(self,inputs):\n",
        "    x=self.block_a(inputs)\n",
        "    x=self.block_b(x)\n",
        "    x=self.block_c(x)\n",
        "    x=self.block_d(x)\n",
        "    x=self.block_e(x)\n",
        "    x=self.flatten(x)\n",
        "    x=self.fc(x)\n",
        "    x=self.classifier(x)\n",
        "    return x\n"
      ],
      "execution_count": 20,
      "outputs": []
    },
    {
      "cell_type": "code",
      "metadata": {
        "colab": {
          "base_uri": "https://localhost:8080/"
        },
        "id": "kYZ-9WFNui0e",
        "outputId": "d1057676-d9b5-4229-bf5b-517f2746c695"
      },
      "source": [
        "import tensorflow_datasets as tfds\n",
        "dataset=tfds.load('cats_vs_dogs', split=tfds.Split.TRAIN, data_dir='data/')\n",
        "model=VGG(classes=2)\n",
        "model.compile(optimizer='adam', loss='sparse_categorical_crossentropy', metrics=['accuracy'])\n",
        "def preprocess(features):\n",
        "    image = tf.image.resize(features['image'], (224, 224))\n",
        "    return tf.cast(image, tf.float32) / 255., features['label']\n",
        "\n",
        "dataset = dataset.map(preprocess).batch(32)\n",
        "model.fit(dataset, epochs=10)"
      ],
      "execution_count": 21,
      "outputs": [
        {
          "output_type": "stream",
          "text": [
            "Epoch 1/10\n",
            "727/727 [==============================] - 132s 133ms/step - loss: 0.6888 - accuracy: 0.5459\n",
            "Epoch 2/10\n",
            "727/727 [==============================] - 99s 136ms/step - loss: 0.6686 - accuracy: 0.6139\n",
            "Epoch 3/10\n",
            "727/727 [==============================] - 99s 136ms/step - loss: 0.6443 - accuracy: 0.6462\n",
            "Epoch 4/10\n",
            "727/727 [==============================] - 99s 136ms/step - loss: 0.6237 - accuracy: 0.6642\n",
            "Epoch 5/10\n",
            "727/727 [==============================] - 99s 137ms/step - loss: 0.6093 - accuracy: 0.6721\n",
            "Epoch 6/10\n",
            "727/727 [==============================] - 99s 137ms/step - loss: 0.5994 - accuracy: 0.6790\n",
            "Epoch 7/10\n",
            "727/727 [==============================] - 99s 136ms/step - loss: 0.5919 - accuracy: 0.6846\n",
            "Epoch 8/10\n",
            "727/727 [==============================] - 99s 137ms/step - loss: 0.5859 - accuracy: 0.6883\n",
            "Epoch 9/10\n",
            "727/727 [==============================] - 100s 137ms/step - loss: 0.5807 - accuracy: 0.6922\n",
            "Epoch 10/10\n",
            "727/727 [==============================] - 99s 136ms/step - loss: 0.5760 - accuracy: 0.6963\n"
          ],
          "name": "stdout"
        },
        {
          "output_type": "execute_result",
          "data": {
            "text/plain": [
              "<keras.callbacks.History at 0x7ffa9ab7ac90>"
            ]
          },
          "metadata": {},
          "execution_count": 21
        }
      ]
    }
  ]
}